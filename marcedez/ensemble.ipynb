{
 "cells": [
  {
   "cell_type": "markdown",
   "metadata": {},
   "source": [
    "Righnow candidate is : SVR with PCA n_components = 10 with results 0.23706564506631833"
   ]
  },
  {
   "cell_type": "code",
   "execution_count": 1,
   "metadata": {
    "collapsed": true
   },
   "outputs": [],
   "source": [
    "import warnings\n",
    "warnings.filterwarnings('ignore')\n",
    "\n",
    "import pandas as pd\n",
    "import numpy as np\n",
    "from sklearn.model_selection import cross_val_score, train_test_split\n",
    "from sklearn.linear_model import LinearRegression, TheilSenRegressor,RANSACRegressor,HuberRegressor\n",
    "from sklearn.metrics import r2_score\n",
    "from xgboost import XGBRegressor\n",
    "from sklearn.svm import SVR\n",
    "from sklearn.linear_model import LinearRegression\n",
    "from sklearn.linear_model import SGDRegressor\n",
    "from sklearn.ensemble import GradientBoostingRegressor"
   ]
  },
  {
   "cell_type": "code",
   "execution_count": 2,
   "metadata": {
    "collapsed": true
   },
   "outputs": [],
   "source": [
    "train = pd.read_csv('data/train.csv')\n",
    "test = pd.read_csv('data/test.csv')"
   ]
  },
  {
   "cell_type": "code",
   "execution_count": 3,
   "metadata": {},
   "outputs": [
    {
     "data": {
      "text/html": [
       "<div>\n",
       "<style>\n",
       "    .dataframe thead tr:only-child th {\n",
       "        text-align: right;\n",
       "    }\n",
       "\n",
       "    .dataframe thead th {\n",
       "        text-align: left;\n",
       "    }\n",
       "\n",
       "    .dataframe tbody tr th {\n",
       "        vertical-align: top;\n",
       "    }\n",
       "</style>\n",
       "<table border=\"1\" class=\"dataframe\">\n",
       "  <thead>\n",
       "    <tr style=\"text-align: right;\">\n",
       "      <th></th>\n",
       "      <th>ID</th>\n",
       "      <th>X0</th>\n",
       "      <th>X1</th>\n",
       "      <th>X2</th>\n",
       "      <th>X3</th>\n",
       "      <th>X4</th>\n",
       "      <th>X5</th>\n",
       "      <th>X6</th>\n",
       "      <th>X8</th>\n",
       "      <th>X10</th>\n",
       "      <th>...</th>\n",
       "      <th>X375</th>\n",
       "      <th>X376</th>\n",
       "      <th>X377</th>\n",
       "      <th>X378</th>\n",
       "      <th>X379</th>\n",
       "      <th>X380</th>\n",
       "      <th>X382</th>\n",
       "      <th>X383</th>\n",
       "      <th>X384</th>\n",
       "      <th>X385</th>\n",
       "    </tr>\n",
       "  </thead>\n",
       "  <tbody>\n",
       "    <tr>\n",
       "      <th>0</th>\n",
       "      <td>1</td>\n",
       "      <td>az</td>\n",
       "      <td>v</td>\n",
       "      <td>n</td>\n",
       "      <td>f</td>\n",
       "      <td>d</td>\n",
       "      <td>t</td>\n",
       "      <td>a</td>\n",
       "      <td>w</td>\n",
       "      <td>0</td>\n",
       "      <td>...</td>\n",
       "      <td>0</td>\n",
       "      <td>0</td>\n",
       "      <td>0</td>\n",
       "      <td>1</td>\n",
       "      <td>0</td>\n",
       "      <td>0</td>\n",
       "      <td>0</td>\n",
       "      <td>0</td>\n",
       "      <td>0</td>\n",
       "      <td>0</td>\n",
       "    </tr>\n",
       "    <tr>\n",
       "      <th>1</th>\n",
       "      <td>2</td>\n",
       "      <td>t</td>\n",
       "      <td>b</td>\n",
       "      <td>ai</td>\n",
       "      <td>a</td>\n",
       "      <td>d</td>\n",
       "      <td>b</td>\n",
       "      <td>g</td>\n",
       "      <td>y</td>\n",
       "      <td>0</td>\n",
       "      <td>...</td>\n",
       "      <td>0</td>\n",
       "      <td>0</td>\n",
       "      <td>1</td>\n",
       "      <td>0</td>\n",
       "      <td>0</td>\n",
       "      <td>0</td>\n",
       "      <td>0</td>\n",
       "      <td>0</td>\n",
       "      <td>0</td>\n",
       "      <td>0</td>\n",
       "    </tr>\n",
       "    <tr>\n",
       "      <th>2</th>\n",
       "      <td>3</td>\n",
       "      <td>az</td>\n",
       "      <td>v</td>\n",
       "      <td>as</td>\n",
       "      <td>f</td>\n",
       "      <td>d</td>\n",
       "      <td>a</td>\n",
       "      <td>j</td>\n",
       "      <td>j</td>\n",
       "      <td>0</td>\n",
       "      <td>...</td>\n",
       "      <td>0</td>\n",
       "      <td>0</td>\n",
       "      <td>0</td>\n",
       "      <td>1</td>\n",
       "      <td>0</td>\n",
       "      <td>0</td>\n",
       "      <td>0</td>\n",
       "      <td>0</td>\n",
       "      <td>0</td>\n",
       "      <td>0</td>\n",
       "    </tr>\n",
       "    <tr>\n",
       "      <th>3</th>\n",
       "      <td>4</td>\n",
       "      <td>az</td>\n",
       "      <td>l</td>\n",
       "      <td>n</td>\n",
       "      <td>f</td>\n",
       "      <td>d</td>\n",
       "      <td>z</td>\n",
       "      <td>l</td>\n",
       "      <td>n</td>\n",
       "      <td>0</td>\n",
       "      <td>...</td>\n",
       "      <td>0</td>\n",
       "      <td>0</td>\n",
       "      <td>0</td>\n",
       "      <td>1</td>\n",
       "      <td>0</td>\n",
       "      <td>0</td>\n",
       "      <td>0</td>\n",
       "      <td>0</td>\n",
       "      <td>0</td>\n",
       "      <td>0</td>\n",
       "    </tr>\n",
       "    <tr>\n",
       "      <th>4</th>\n",
       "      <td>5</td>\n",
       "      <td>w</td>\n",
       "      <td>s</td>\n",
       "      <td>as</td>\n",
       "      <td>c</td>\n",
       "      <td>d</td>\n",
       "      <td>y</td>\n",
       "      <td>i</td>\n",
       "      <td>m</td>\n",
       "      <td>0</td>\n",
       "      <td>...</td>\n",
       "      <td>1</td>\n",
       "      <td>0</td>\n",
       "      <td>0</td>\n",
       "      <td>0</td>\n",
       "      <td>0</td>\n",
       "      <td>0</td>\n",
       "      <td>0</td>\n",
       "      <td>0</td>\n",
       "      <td>0</td>\n",
       "      <td>0</td>\n",
       "    </tr>\n",
       "  </tbody>\n",
       "</table>\n",
       "<p>5 rows × 377 columns</p>\n",
       "</div>"
      ],
      "text/plain": [
       "   ID  X0 X1  X2 X3 X4 X5 X6 X8  X10  ...   X375  X376  X377  X378  X379  \\\n",
       "0   1  az  v   n  f  d  t  a  w    0  ...      0     0     0     1     0   \n",
       "1   2   t  b  ai  a  d  b  g  y    0  ...      0     0     1     0     0   \n",
       "2   3  az  v  as  f  d  a  j  j    0  ...      0     0     0     1     0   \n",
       "3   4  az  l   n  f  d  z  l  n    0  ...      0     0     0     1     0   \n",
       "4   5   w  s  as  c  d  y  i  m    0  ...      1     0     0     0     0   \n",
       "\n",
       "   X380  X382  X383  X384  X385  \n",
       "0     0     0     0     0     0  \n",
       "1     0     0     0     0     0  \n",
       "2     0     0     0     0     0  \n",
       "3     0     0     0     0     0  \n",
       "4     0     0     0     0     0  \n",
       "\n",
       "[5 rows x 377 columns]"
      ]
     },
     "execution_count": 3,
     "metadata": {},
     "output_type": "execute_result"
    }
   ],
   "source": [
    "test.head(5)"
   ]
  },
  {
   "cell_type": "code",
   "execution_count": 4,
   "metadata": {
    "collapsed": true
   },
   "outputs": [],
   "source": [
    "from sklearn.preprocessing import LabelEncoder\n",
    "from sklearn.feature_selection import SelectFromModel\n",
    "from sklearn.svm import OneClassSVM"
   ]
  },
  {
   "cell_type": "code",
   "execution_count": 5,
   "metadata": {
    "collapsed": true
   },
   "outputs": [],
   "source": [
    "cols = train.columns"
   ]
  },
  {
   "cell_type": "code",
   "execution_count": 6,
   "metadata": {},
   "outputs": [],
   "source": [
    "lblencod = LabelEncoder()\n",
    "for col in cols:\n",
    "    if train[col].dtype == 'object':\n",
    "        train[col] = lblencod.fit_transform(train[col])\n",
    "\n",
    "test_cols = test.columns\n",
    "for col in test_cols:\n",
    "    if test[col].dtype == 'object':\n",
    "        test[col] = lblencod.fit_transform(test[col])"
   ]
  },
  {
   "cell_type": "code",
   "execution_count": 7,
   "metadata": {},
   "outputs": [],
   "source": [
    "train_labels = train.y\n",
    "del train['y']\n",
    "train_feats_encode = train"
   ]
  },
  {
   "cell_type": "code",
   "execution_count": 8,
   "metadata": {},
   "outputs": [],
   "source": [
    "test_feats_encode = test"
   ]
  },
  {
   "cell_type": "code",
   "execution_count": 9,
   "metadata": {
    "collapsed": true
   },
   "outputs": [],
   "source": [
    "cellen=['ID', 'X47','X95','X314','X315','X232','X119','X311','X76','X329','X238','X340','X362','X137']"
   ]
  },
  {
   "cell_type": "code",
   "execution_count": 10,
   "metadata": {
    "collapsed": true
   },
   "outputs": [],
   "source": [
    "# train_feats_encode = train[cellen].as_matrix()\n",
    "# test_feats_encode = test[cellen].as_matrix()\n"
   ]
  },
  {
   "cell_type": "code",
   "execution_count": 11,
   "metadata": {
    "collapsed": true
   },
   "outputs": [],
   "source": [
    "train_X, eval_X, train_y, eval_y = train_test_split(train_feats_encode, train_labels)\n"
   ]
  },
  {
   "cell_type": "code",
   "execution_count": 12,
   "metadata": {
    "collapsed": true
   },
   "outputs": [],
   "source": [
    "def check(model , exp=False, train_X=train_X, eval_X=eval_X, train_y=train_y, eval_y=eval_y):\n",
    "    if exp:\n",
    "        pred_train = np.exp(model.predict(train_X))\n",
    "        score_train = r2_score(train_y, pred_train)\n",
    "        pred_eval = np.exp(model.predict(eval_X))\n",
    "        score_eval = r2_score(eval_y, pred_eval)\n",
    "    else:\n",
    "        pred_train = model.predict(train_X)\n",
    "        score_train = r2_score(train_y, pred_train)\n",
    "        pred_eval = model.predict(eval_X)\n",
    "        score_eval = r2_score(eval_y, pred_eval)\n",
    "    print(model.__class__.__name__)\n",
    "    print(\"r2 train = \", score_train)\n",
    "    print(\"r2 eval = \", score_eval)\n",
    "    print(\"====================================================\\n\")\n",
    "    return score_train, score_eval, pred_train, pred_eval"
   ]
  },
  {
   "cell_type": "code",
   "execution_count": 13,
   "metadata": {
    "collapsed": true
   },
   "outputs": [],
   "source": [
    "def eval_model(exp=False):\n",
    "    # print(\"TheilSenRegressor \")\n",
    "    #\n",
    "    # model_theilsen = TheilSenRegressor(random_state=42)\n",
    "    # model_theilsen.fit(train_X, train_y)\n",
    "    # train_theilsen, test_theilsen, pred_train_theilsen, pred_eval_theilsen = check(model_theilsen)\n",
    "    #\n",
    "    if exp:\n",
    "        y = np.log(train_y)\n",
    "    else:\n",
    "        y = train_y\n",
    "    print(\"RANSACRegressor \")\n",
    "    model_ransac = RANSACRegressor(random_state=42)\n",
    "    model_ransac.fit(train_X, y)\n",
    "    train_ransac, test_ransac, pred_train_ransac, pred_eval_ransac = check(model_ransac, exp)\n",
    "\n",
    "\n",
    "    print(\"LinearRegression \")\n",
    "    model_linear = LinearRegression()\n",
    "    model_linear.fit(train_X, y)\n",
    "    train_lr, test_lr, pred_train_lr, pred_eval_lr = check(model_linear, exp)\n",
    "\n",
    "\n",
    "    model_xgb = XGBRegressor(seed = 0,\n",
    "      colsample_bytree = 0.7,\n",
    "      subsample = 0.9,\n",
    "      eta = 0.005,\n",
    "      max_depth = 4,\n",
    "      num_parallel_tree = 1,\n",
    "      min_child_weight = 1, objective='reg:linear', base_score=np.mean(train_labels))\n",
    "    model_xgb.fit(train_X, y)\n",
    "    train_xgb, test_xgb, pred_train_xgb, pred_eval_xgb = check(model_xgb, exp)\n",
    "\n",
    "    model_gbr = GradientBoostingRegressor()\n",
    "    model_gbr.fit(train_X, y)\n",
    "    train_gbr, test_gbr, pred_train_gbr, pred_eval_gbr = check(model_gbr, exp)\n",
    "\n",
    "\n",
    "\n",
    "    columns=['lr', 'xgb', 'gbr', 'ransac',]\n",
    "\n",
    "    test_res = (pred_eval_lr, pred_eval_xgb, pred_eval_gbr, pred_eval_ransac)\n",
    "\n",
    "    train_res = (pred_train_lr, pred_train_xgb, pred_train_gbr, pred_train_ransac)\n",
    "\n",
    "    train_res_pd = pd.DataFrame(data=np.column_stack(train_res),\n",
    "                  columns=columns)\n",
    "\n",
    "    test_res_pd = pd.DataFrame(data=np.column_stack(test_res),\n",
    "                  columns=columns)\n",
    "    models = [model_linear, model_xgb, model_gbr, model_ransac]\n",
    "    return train_res_pd, test_res_pd, models"
   ]
  },
  {
   "cell_type": "code",
   "execution_count": 94,
   "metadata": {},
   "outputs": [
    {
     "name": "stdout",
     "output_type": "stream",
     "text": [
      "RANSACRegressor \n",
      "RANSACRegressor\n",
      "r2 train =  0.440106585913\n",
      "r2 eval =  0.42053027003\n",
      "====================================================\n",
      "\n",
      "LinearRegression \n",
      "LinearRegression\n",
      "r2 train =  0.585988449061\n",
      "r2 eval =  0.577861871398\n",
      "====================================================\n",
      "\n",
      "XGBRegressor\n",
      "r2 train =  0.626665876316\n",
      "r2 eval =  0.61540600477\n",
      "====================================================\n",
      "\n",
      "GradientBoostingRegressor\n",
      "r2 train =  0.616935568078\n",
      "r2 eval =  0.609234543911\n",
      "====================================================\n",
      "\n"
     ]
    }
   ],
   "source": [
    "train_pd, eval_pd, models = eval_model(exp=True)"
   ]
  },
  {
   "cell_type": "code",
   "execution_count": 113,
   "metadata": {
    "collapsed": true
   },
   "outputs": [],
   "source": [
    "def frm(dt):\n",
    "    x = 0. * dt['lr']  + 1. * dt['xgb'] + 0. * dt['gbr'] \n",
    "    return x"
   ]
  },
  {
   "cell_type": "code",
   "execution_count": 116,
   "metadata": {},
   "outputs": [
    {
     "name": "stdout",
     "output_type": "stream",
     "text": [
      "Train score :  0.599574249282\n",
      "eval score :  0.600047836907\n",
      "=-=-=-=-=-=-=-=-=-=-=-=-=-=-=-=-=-=-=-=-=-=-=-=-=-=-=-=-\n",
      "Train score :  0.626665876316\n",
      "eval score :  0.61540600477\n",
      "=-=-=-=-=-=-=-=-=-=-=-=-=-=-=-=-=-=-=-=-=-=-=-=-=-=-=-=-\n",
      "Train score :  0.609490324686\n",
      "eval score :  0.613179374861\n",
      "=-=-=-=-=-=-=-=-=-=-=-=-=-=-=-=-=-=-=-=-=-=-=-=-=-=-=-=-\n",
      "Train score :  0.626665876316\n",
      "eval score :  0.61540600477\n"
     ]
    }
   ],
   "source": [
    "print(\"Train score : \", r2_score(train_y, train_pd.mean(axis=1)))\n",
    "print(\"eval score : \", r2_score(eval_y, eval_pd.mean(axis=1)))\n",
    "print(\"=-=-=-=-=-=-=-=-=-=-=-=-=-=-=-=-=-=-=-=-=-=-=-=-=-=-=-=-\")\n",
    "print(\"Train score : \", r2_score(train_y, frm(train_pd)))\n",
    "print(\"eval score : \", r2_score(eval_y, frm(eval_pd)))\n",
    "print(\"=-=-=-=-=-=-=-=-=-=-=-=-=-=-=-=-=-=-=-=-=-=-=-=-=-=-=-=-\")\n",
    "print(\"Train score : \", r2_score(train_y, train_pd.median(axis=1)))\n",
    "print(\"eval score : \", r2_score(eval_y, eval_pd.median(axis=1)))\n",
    "print(\"=-=-=-=-=-=-=-=-=-=-=-=-=-=-=-=-=-=-=-=-=-=-=-=-=-=-=-=-\")\n",
    "print(\"Train score : \", r2_score(train_y, frm(train_pd)))\n",
    "print(\"eval score : \", r2_score(eval_y, frm(eval_pd)))"
   ]
  },
  {
   "cell_type": "code",
   "execution_count": 108,
   "metadata": {},
   "outputs": [
    {
     "name": "stdout",
     "output_type": "stream",
     "text": [
      "LinearRegression\n",
      "0.594169705436\n",
      "XGBRegressor\n",
      "0.630540235593\n",
      "GradientBoostingRegressor\n",
      "0.621005122367\n",
      "RANSACRegressor\n",
      "0.495371018739\n"
     ]
    }
   ],
   "source": [
    "all_models = []\n",
    "for model in models:\n",
    "    nme = str(model.__class__.__name__)\n",
    "    if nme != 'KerasRegressor':\n",
    "        model.fit(train_feats_encode, np.log(train_labels))\n",
    "        print(nme)\n",
    "        print(r2_score(train_labels, np.exp(model.predict(train_feats_encode))))\n",
    "        all_models.append(model)"
   ]
  },
  {
   "cell_type": "code",
   "execution_count": 54,
   "metadata": {},
   "outputs": [
    {
     "name": "stdout",
     "output_type": "stream",
     "text": [
      "0.630540235593\n"
     ]
    }
   ],
   "source": [
    "preds = []\n",
    "for model in models:\n",
    "    preds.append(np.exp(model.predict(train_feats_encode)))\n",
    "columns=['lr', 'xgb', 'gbr', 'ransac']\n",
    "dt = pd.DataFrame(data=np.array(preds).T, columns=columns)\n",
    "score_final = r2_score(train_labels, frm(dt))\n",
    "print(score_final)"
   ]
  },
  {
   "cell_type": "code",
   "execution_count": 55,
   "metadata": {
    "collapsed": true
   },
   "outputs": [],
   "source": [
    "preds = []\n",
    "columns=['lr', 'xgb', 'gbr', 'ransac']\n",
    "\n",
    "for model in models:\n",
    "    preds.append(np.exp(model.predict(test_feats_encode)))\n",
    "    \n",
    "dt = pd.DataFrame(data=np.array(preds).T, columns=columns)"
   ]
  },
  {
   "cell_type": "code",
   "execution_count": 56,
   "metadata": {
    "collapsed": true
   },
   "outputs": [],
   "source": [
    "res = dt[['lr', 'xgb', 'gbr',  'ransac']]"
   ]
  },
  {
   "cell_type": "code",
   "execution_count": 57,
   "metadata": {
    "collapsed": true
   },
   "outputs": [],
   "source": [
    "output = pd.DataFrame({'id': test['ID'].astype(np.int32)})\n"
   ]
  },
  {
   "cell_type": "code",
   "execution_count": 58,
   "metadata": {},
   "outputs": [],
   "source": [
    "output['y'] = frm(res)"
   ]
  },
  {
   "cell_type": "code",
   "execution_count": 59,
   "metadata": {},
   "outputs": [
    {
     "name": "stdout",
     "output_type": "stream",
     "text": [
      "results/xgboost/ensemble[ensemble][0_630540235593].csv\n"
     ]
    }
   ],
   "source": [
    "fname = 'results/xgboost/ensemble[%s][%s].csv' % ('ensemble',str(score_final).replace(\".\", \"_\"))\n",
    "output.to_csv(fname, index=False)\n",
    "print(fname)"
   ]
  },
  {
   "cell_type": "code",
   "execution_count": null,
   "metadata": {
    "collapsed": true
   },
   "outputs": [],
   "source": []
  }
 ],
 "metadata": {
  "kernelspec": {
   "display_name": "Python 3",
   "language": "python",
   "name": "python3"
  },
  "language_info": {
   "codemirror_mode": {
    "name": "ipython",
    "version": 3
   },
   "file_extension": ".py",
   "mimetype": "text/x-python",
   "name": "python",
   "nbconvert_exporter": "python",
   "pygments_lexer": "ipython3",
   "version": "3.5.3"
  }
 },
 "nbformat": 4,
 "nbformat_minor": 2
}
