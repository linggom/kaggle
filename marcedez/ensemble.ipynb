{
 "cells": [
  {
   "cell_type": "markdown",
   "metadata": {},
   "source": [
    "Righnow candidate is : SVR with PCA n_components = 10 with results 0.23706564506631833"
   ]
  },
  {
   "cell_type": "code",
   "execution_count": 1,
   "metadata": {
    "collapsed": true
   },
   "outputs": [],
   "source": [
    "import warnings\n",
    "warnings.filterwarnings('ignore')\n",
    "\n",
    "import pandas as pd\n",
    "import numpy as np\n",
    "from sklearn.model_selection import cross_val_score, train_test_split\n",
    "from sklearn.linear_model import LinearRegression, TheilSenRegressor,RANSACRegressor,HuberRegressor\n",
    "from sklearn.metrics import r2_score\n",
    "from xgboost import XGBRegressor\n",
    "from sklearn.svm import SVR\n",
    "from sklearn.linear_model import LinearRegression\n",
    "from sklearn.linear_model import SGDRegressor\n",
    "from sklearn.ensemble import GradientBoostingRegressor"
   ]
  },
  {
   "cell_type": "code",
   "execution_count": 2,
   "metadata": {
    "collapsed": true
   },
   "outputs": [],
   "source": [
    "train = pd.read_csv('data/train.csv')\n",
    "test = pd.read_csv('data/test.csv')"
   ]
  },
  {
   "cell_type": "code",
   "execution_count": 3,
   "metadata": {},
   "outputs": [
    {
     "data": {
      "text/html": [
       "<div>\n",
       "<style>\n",
       "    .dataframe thead tr:only-child th {\n",
       "        text-align: right;\n",
       "    }\n",
       "\n",
       "    .dataframe thead th {\n",
       "        text-align: left;\n",
       "    }\n",
       "\n",
       "    .dataframe tbody tr th {\n",
       "        vertical-align: top;\n",
       "    }\n",
       "</style>\n",
       "<table border=\"1\" class=\"dataframe\">\n",
       "  <thead>\n",
       "    <tr style=\"text-align: right;\">\n",
       "      <th></th>\n",
       "      <th>ID</th>\n",
       "      <th>X0</th>\n",
       "      <th>X1</th>\n",
       "      <th>X2</th>\n",
       "      <th>X3</th>\n",
       "      <th>X4</th>\n",
       "      <th>X5</th>\n",
       "      <th>X6</th>\n",
       "      <th>X8</th>\n",
       "      <th>X10</th>\n",
       "      <th>...</th>\n",
       "      <th>X375</th>\n",
       "      <th>X376</th>\n",
       "      <th>X377</th>\n",
       "      <th>X378</th>\n",
       "      <th>X379</th>\n",
       "      <th>X380</th>\n",
       "      <th>X382</th>\n",
       "      <th>X383</th>\n",
       "      <th>X384</th>\n",
       "      <th>X385</th>\n",
       "    </tr>\n",
       "  </thead>\n",
       "  <tbody>\n",
       "    <tr>\n",
       "      <th>0</th>\n",
       "      <td>1</td>\n",
       "      <td>az</td>\n",
       "      <td>v</td>\n",
       "      <td>n</td>\n",
       "      <td>f</td>\n",
       "      <td>d</td>\n",
       "      <td>t</td>\n",
       "      <td>a</td>\n",
       "      <td>w</td>\n",
       "      <td>0</td>\n",
       "      <td>...</td>\n",
       "      <td>0</td>\n",
       "      <td>0</td>\n",
       "      <td>0</td>\n",
       "      <td>1</td>\n",
       "      <td>0</td>\n",
       "      <td>0</td>\n",
       "      <td>0</td>\n",
       "      <td>0</td>\n",
       "      <td>0</td>\n",
       "      <td>0</td>\n",
       "    </tr>\n",
       "    <tr>\n",
       "      <th>1</th>\n",
       "      <td>2</td>\n",
       "      <td>t</td>\n",
       "      <td>b</td>\n",
       "      <td>ai</td>\n",
       "      <td>a</td>\n",
       "      <td>d</td>\n",
       "      <td>b</td>\n",
       "      <td>g</td>\n",
       "      <td>y</td>\n",
       "      <td>0</td>\n",
       "      <td>...</td>\n",
       "      <td>0</td>\n",
       "      <td>0</td>\n",
       "      <td>1</td>\n",
       "      <td>0</td>\n",
       "      <td>0</td>\n",
       "      <td>0</td>\n",
       "      <td>0</td>\n",
       "      <td>0</td>\n",
       "      <td>0</td>\n",
       "      <td>0</td>\n",
       "    </tr>\n",
       "    <tr>\n",
       "      <th>2</th>\n",
       "      <td>3</td>\n",
       "      <td>az</td>\n",
       "      <td>v</td>\n",
       "      <td>as</td>\n",
       "      <td>f</td>\n",
       "      <td>d</td>\n",
       "      <td>a</td>\n",
       "      <td>j</td>\n",
       "      <td>j</td>\n",
       "      <td>0</td>\n",
       "      <td>...</td>\n",
       "      <td>0</td>\n",
       "      <td>0</td>\n",
       "      <td>0</td>\n",
       "      <td>1</td>\n",
       "      <td>0</td>\n",
       "      <td>0</td>\n",
       "      <td>0</td>\n",
       "      <td>0</td>\n",
       "      <td>0</td>\n",
       "      <td>0</td>\n",
       "    </tr>\n",
       "    <tr>\n",
       "      <th>3</th>\n",
       "      <td>4</td>\n",
       "      <td>az</td>\n",
       "      <td>l</td>\n",
       "      <td>n</td>\n",
       "      <td>f</td>\n",
       "      <td>d</td>\n",
       "      <td>z</td>\n",
       "      <td>l</td>\n",
       "      <td>n</td>\n",
       "      <td>0</td>\n",
       "      <td>...</td>\n",
       "      <td>0</td>\n",
       "      <td>0</td>\n",
       "      <td>0</td>\n",
       "      <td>1</td>\n",
       "      <td>0</td>\n",
       "      <td>0</td>\n",
       "      <td>0</td>\n",
       "      <td>0</td>\n",
       "      <td>0</td>\n",
       "      <td>0</td>\n",
       "    </tr>\n",
       "    <tr>\n",
       "      <th>4</th>\n",
       "      <td>5</td>\n",
       "      <td>w</td>\n",
       "      <td>s</td>\n",
       "      <td>as</td>\n",
       "      <td>c</td>\n",
       "      <td>d</td>\n",
       "      <td>y</td>\n",
       "      <td>i</td>\n",
       "      <td>m</td>\n",
       "      <td>0</td>\n",
       "      <td>...</td>\n",
       "      <td>1</td>\n",
       "      <td>0</td>\n",
       "      <td>0</td>\n",
       "      <td>0</td>\n",
       "      <td>0</td>\n",
       "      <td>0</td>\n",
       "      <td>0</td>\n",
       "      <td>0</td>\n",
       "      <td>0</td>\n",
       "      <td>0</td>\n",
       "    </tr>\n",
       "  </tbody>\n",
       "</table>\n",
       "<p>5 rows × 377 columns</p>\n",
       "</div>"
      ],
      "text/plain": [
       "   ID  X0 X1  X2 X3 X4 X5 X6 X8  X10  ...   X375  X376  X377  X378  X379  \\\n",
       "0   1  az  v   n  f  d  t  a  w    0  ...      0     0     0     1     0   \n",
       "1   2   t  b  ai  a  d  b  g  y    0  ...      0     0     1     0     0   \n",
       "2   3  az  v  as  f  d  a  j  j    0  ...      0     0     0     1     0   \n",
       "3   4  az  l   n  f  d  z  l  n    0  ...      0     0     0     1     0   \n",
       "4   5   w  s  as  c  d  y  i  m    0  ...      1     0     0     0     0   \n",
       "\n",
       "   X380  X382  X383  X384  X385  \n",
       "0     0     0     0     0     0  \n",
       "1     0     0     0     0     0  \n",
       "2     0     0     0     0     0  \n",
       "3     0     0     0     0     0  \n",
       "4     0     0     0     0     0  \n",
       "\n",
       "[5 rows x 377 columns]"
      ]
     },
     "execution_count": 3,
     "metadata": {},
     "output_type": "execute_result"
    }
   ],
   "source": [
    "test.head(5)"
   ]
  },
  {
   "cell_type": "code",
   "execution_count": 4,
   "metadata": {
    "collapsed": true
   },
   "outputs": [],
   "source": [
    "from sklearn.preprocessing import LabelEncoder\n",
    "from sklearn.feature_selection import SelectFromModel\n",
    "from sklearn.svm import OneClassSVM"
   ]
  },
  {
   "cell_type": "code",
   "execution_count": 5,
   "metadata": {
    "collapsed": true
   },
   "outputs": [],
   "source": [
    "train_labels = train.iloc[:,1]\n",
    "train_feats = train.iloc[:, 2:]\n",
    "\n",
    "test_labels = test.iloc[:,1]\n",
    "test_feats = test.iloc[:, 1:]"
   ]
  },
  {
   "cell_type": "code",
   "execution_count": 6,
   "metadata": {
    "collapsed": true
   },
   "outputs": [],
   "source": [
    "train_feats_encode = []\n",
    "train_feats_encode.append(train.iloc[:, 0])\n",
    "for i in range(train_feats.shape[1]):\n",
    "    arr = train_feats.iloc[:, i]\n",
    "    if arr.dtype == 'O':        \n",
    "        lblencod = LabelEncoder()\n",
    "        arr = lblencod.fit_transform(arr)\n",
    "    train_feats_encode.append(arr)\n",
    "train_feats_encode = np.array(train_feats_encode).T\n",
    "\n",
    "test_feats_encode = []\n",
    "test_feats_encode.append(test.iloc[:, 0])\n",
    "for i in range(test_feats.shape[1]):\n",
    "    arr = test_feats.iloc[:, i]\n",
    "    if arr.dtype == 'O':        \n",
    "        lblencod = LabelEncoder()\n",
    "        arr = lblencod.fit_transform(arr)\n",
    "    test_feats_encode.append(arr)\n",
    "test_feats_encode = np.array(test_feats_encode).T"
   ]
  },
  {
   "cell_type": "code",
   "execution_count": 7,
   "metadata": {
    "collapsed": true
   },
   "outputs": [],
   "source": [
    "cellen=['ID', 'X47','X95','X314','X315','X232','X119','X311','X76','X329','X238','X340','X362','X137']\n",
    "\n",
    "# cellen = [\"X28\", \"X29\", \"X54\", \"X76\", \"X118\", \"X119\", \"X127\", \"X136\", \"X162\", \"X166\", \"X178\", \"X232\", \"X234\", \"X250\", \"X261\", \"X263\", \"X272\", \"X275\", \"X276\", \"X279\", \"X313\", \"X314\", \"X316\", \"X328\", \"X378\",]\n"
   ]
  },
  {
   "cell_type": "code",
   "execution_count": 8,
   "metadata": {
    "collapsed": true
   },
   "outputs": [],
   "source": [
    "# train_feats_encode = train[cellen].as_matrix()\n",
    "# test_feats_encode = test[cellen].as_matrix()\n"
   ]
  },
  {
   "cell_type": "code",
   "execution_count": 9,
   "metadata": {},
   "outputs": [
    {
     "data": {
      "text/plain": [
       "IsolationForest(bootstrap=False, contamination=0.25, max_features=1.0,\n",
       "        max_samples=200, n_estimators=100, n_jobs=1,\n",
       "        random_state=<mtrand.RandomState object at 0x000001F4C9A56C60>,\n",
       "        verbose=0)"
      ]
     },
     "execution_count": 9,
     "metadata": {},
     "output_type": "execute_result"
    }
   ],
   "source": [
    "from sklearn.ensemble import IsolationForest\n",
    "\n",
    "rng = np.random.RandomState(42)\n",
    "\n",
    "# Example settings\n",
    "n_samples = 200\n",
    "outliers_fraction = 0.25\n",
    "clusters_separation = [0, 1, 2]\n",
    "outl = IsolationForest(max_samples=n_samples,\n",
    "                                        contamination=outliers_fraction,\n",
    "                                        random_state=rng)\n",
    "outl.fit(train_feats_encode)"
   ]
  },
  {
   "cell_type": "code",
   "execution_count": 10,
   "metadata": {},
   "outputs": [
    {
     "data": {
      "text/plain": [
       "array([-1,  1])"
      ]
     },
     "execution_count": 10,
     "metadata": {},
     "output_type": "execute_result"
    }
   ],
   "source": [
    "qw = outl.predict(train_feats_encode)\n",
    "np.unique(qw)"
   ]
  },
  {
   "cell_type": "code",
   "execution_count": 11,
   "metadata": {
    "collapsed": true
   },
   "outputs": [],
   "source": [
    "train_feats_encode = train_feats_encode[qw == 1]\n",
    "train_labels = train_labels[qw == 1]"
   ]
  },
  {
   "cell_type": "code",
   "execution_count": 12,
   "metadata": {
    "collapsed": true
   },
   "outputs": [],
   "source": [
    "train_X, eval_X, train_y, eval_y = train_test_split(train_feats_encode, train_labels)\n"
   ]
  },
  {
   "cell_type": "code",
   "execution_count": 13,
   "metadata": {
    "collapsed": true
   },
   "outputs": [],
   "source": [
    "def check(model):\n",
    "    pred_train = model.predict(train_X)\n",
    "    score_train = r2_score(train_y, pred_train)\n",
    "    pred_eval = model.predict(eval_X)\n",
    "    score_eval = r2_score(eval_y, pred_eval)\n",
    "    print(model.__class__.__name__)\n",
    "    print(\"r2 train = \", score_train)\n",
    "    print(\"r2 eval = \", score_eval)\n",
    "    print(\"====================================================\\n\")\n",
    "    return score_train, score_eval, pred_train, pred_eval"
   ]
  },
  {
   "cell_type": "code",
   "execution_count": null,
   "metadata": {
    "collapsed": true
   },
   "outputs": [],
   "source": [
    "def eval_model():\n",
    "    \n",
    "    model_theilsen = TheilSenRegressor(random_state=42)\n",
    "    model_theilsen.fit(train_X, train_y)\n",
    "    train_theilsen, test_theilsen, pred_train_theilsen, pred_eval_theilsen = check(model_theilsen)\n",
    "\n",
    "    model_ransac = RANSACRegressor(random_state=42)\n",
    "    model_ransac.fit(train_X, train_y)\n",
    "    train_ransac, test_ransac, pred_train_ransac, pred_eval_ransac = check(model_ransac)\n",
    "\n",
    "    model_huber = HuberRegressor()\n",
    "    model_huber.fit(train_X, train_y)\n",
    "    train_huber, test_huber, pred_train_huber, pred_eval_huber = check(model_huber)\n",
    "\n",
    "    \n",
    "    model_linear = LinearRegression()\n",
    "    model_linear.fit(train_X, train_y)\n",
    "    train_lr, test_lr, pred_train_lr, pred_eval_lr = check(model_linear)\n",
    "\n",
    "    model_sgd = SGDRegressor()\n",
    "    model_sgd.fit(train_X, train_y)\n",
    "    train_sgd, test_sgd, pred_train_sgd, pred_eval_sgd = check(model_sgd)\n",
    "        \n",
    "    model_xgb = XGBRegressor(seed = 0,\n",
    "      colsample_bytree = 0.7,\n",
    "      subsample = 0.9,\n",
    "      eta = 0.005,\n",
    "      max_depth = 4,\n",
    "      num_parallel_tree = 1,\n",
    "      min_child_weight = 1, objective='reg:linear', base_score=np.mean(train_labels))\n",
    "    model_xgb.fit(train_X, train_y)\n",
    "    train_xgb, test_xgb, pred_train_xgb, pred_eval_xgb = check(model_xgb)\n",
    "    \n",
    "    model_gbr = GradientBoostingRegressor()\n",
    "    model_gbr.fit(train_X, train_y)\n",
    "    train_gbr, test_gbr, pred_train_gbr, pred_eval_gbr = check(model_gbr)\n",
    "    \n",
    " \n",
    "    \n",
    "    columns=['lr', 'sgd', 'xgb', 'gbr',  'thelisen', 'ransac', 'huber']\n",
    "   \n",
    "    test_res = (pred_eval_lr, pred_eval_sgd, pred_eval_xgb, pred_eval_gbr, pred_eval_theilsen, pred_eval_ransac, pred_eval_huber)\n",
    "    \n",
    "    train_res = (pred_train_lr, pred_train_sgd, pred_train_xgb, pred_train_gbr, pred_train_theilsen, pred_train_ransac, pred_train_huber)\n",
    "    \n",
    "    train_res_pd = pd.DataFrame(data=np.column_stack(train_res),\n",
    "                  columns=columns)\n",
    "    \n",
    "    test_res_pd = pd.DataFrame(data=np.column_stack(test_res),\n",
    "                  columns=columns)\n",
    "    models = [model_linear, model_sgd, model_xgb, model_gbr, model_theilsen, model_ransac, model_huber]\n",
    "    return train_res_pd, test_res_pd, models"
   ]
  },
  {
   "cell_type": "code",
   "execution_count": null,
   "metadata": {
    "collapsed": true
   },
   "outputs": [],
   "source": [
    "train_pd, eval_pd, models = eval_model()"
   ]
  },
  {
   "cell_type": "code",
   "execution_count": null,
   "metadata": {
    "collapsed": true
   },
   "outputs": [],
   "source": [
    "def frm(dt):\n",
    "    x = 0.1 * dt['lr']  + 0.75 * dt['xgb'] + 0.15 * dt['gbr'] \n",
    "    return x"
   ]
  },
  {
   "cell_type": "code",
   "execution_count": null,
   "metadata": {
    "collapsed": true
   },
   "outputs": [],
   "source": [
    "print(r2_score(train_y, train_pd.median(axis=1)))\n",
    "print(r2_score(eval_y, eval_pd.median(axis=1)))\n",
    "print(r2_score(train_y, frm(train_pd)))\n",
    "print(r2_score(eval_y, frm(eval_pd)))"
   ]
  },
  {
   "cell_type": "code",
   "execution_count": null,
   "metadata": {
    "collapsed": true
   },
   "outputs": [],
   "source": [
    "all_models = []\n",
    "for model in models:\n",
    "    nme = str(model.__class__.__name__)\n",
    "    if nme != 'KerasRegressor':\n",
    "        model.fit(train_feats_encode, train_labels)\n",
    "        print(nme)\n",
    "        print(r2_score(train_labels, model.predict(train_feats_encode)))\n",
    "        all_models.append(model)"
   ]
  },
  {
   "cell_type": "code",
   "execution_count": null,
   "metadata": {
    "collapsed": true
   },
   "outputs": [],
   "source": [
    "preds = []\n",
    "for model in models:\n",
    "    preds.append(model.predict(train_feats_encode))\n",
    "columns=['lr', 'sgd', 'xgb', 'gbr',  'thelisen', 'ransac', 'huber']\n",
    "dt = pd.DataFrame(data=np.array(preds).T, columns=columns)\n",
    "r2_score(train_labels, frm(dt))"
   ]
  },
  {
   "cell_type": "code",
   "execution_count": null,
   "metadata": {
    "collapsed": true
   },
   "outputs": [],
   "source": [
    "preds = []\n",
    "columns=['lr', 'sgd', 'xgb', 'gbr', 'thelisen', 'ransac', 'huber']\n",
    "\n",
    "for model in models:\n",
    "    preds.append(model.predict(test_feats_encode))\n",
    "    \n",
    "dt = pd.DataFrame(data=np.array(preds).T, columns=columns)"
   ]
  },
  {
   "cell_type": "code",
   "execution_count": null,
   "metadata": {
    "collapsed": true
   },
   "outputs": [],
   "source": [
    "res = dt[['lr', 'xgb', 'gbr',  'ransac']]"
   ]
  },
  {
   "cell_type": "code",
   "execution_count": null,
   "metadata": {
    "collapsed": true
   },
   "outputs": [],
   "source": [
    "output = pd.DataFrame({'id': test['ID'].astype(np.int32)})\n"
   ]
  },
  {
   "cell_type": "code",
   "execution_count": null,
   "metadata": {
    "collapsed": true
   },
   "outputs": [],
   "source": [
    "output['y'] = frm(res)"
   ]
  },
  {
   "cell_type": "code",
   "execution_count": null,
   "metadata": {
    "collapsed": true
   },
   "outputs": [],
   "source": [
    "output.to_csv('results/xgboost/ensemble[%s][%s].csv' % ('ensemble','qwe12'), index=False)"
   ]
  }
 ],
 "metadata": {
  "kernelspec": {
   "display_name": "Python 3",
   "language": "python",
   "name": "python3"
  },
  "language_info": {
   "codemirror_mode": {
    "name": "ipython",
    "version": 3
   },
   "file_extension": ".py",
   "mimetype": "text/x-python",
   "name": "python",
   "nbconvert_exporter": "python",
   "pygments_lexer": "ipython3",
   "version": "3.5.3"
  }
 },
 "nbformat": 4,
 "nbformat_minor": 2
}
