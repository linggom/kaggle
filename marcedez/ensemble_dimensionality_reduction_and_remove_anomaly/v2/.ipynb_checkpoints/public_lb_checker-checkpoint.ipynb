{
 "cells": [
  {
   "cell_type": "code",
   "execution_count": 9,
   "metadata": {
    "collapsed": true
   },
   "outputs": [],
   "source": [
    "import urllib\n",
    "import json\n",
    "import pandas as pd\n",
    "import codecs\n",
    "reader = codecs.getreader(\"utf-8\")\n",
    "\n",
    "def fetch_full_data():\n",
    "  all_questions=json.load(reader(\n",
    "    urllib.request.urlopen(\n",
    "      \"https://crowdstats.eu/api/topics/kaggle-mercedes-benz-greener-manufacturing-leaderboard-probing/questions\"\n",
    "    ))\n",
    "  )\n",
    "  answers = []\n",
    "  for question in all_questions:\n",
    "    for answer in question['answers']:\n",
    "      newAnswer = {\n",
    "        'id': question['id'],\n",
    "        'insidePublicLB': answer['inside_public_lb'],\n",
    "        'yValue': answer['y_value'],\n",
    "        'rho100': answer['rho_100'],\n",
    "      }\n",
    "      answers.append(newAnswer)\n",
    "  return pd.DataFrame(answers)\n",
    "\n",
    "full_data = fetch_full_data()\n",
    "datapoints_inside_public_lb = full_data[full_data['insidePublicLB']==True]"
   ]
  },
  {
   "cell_type": "code",
   "execution_count": 10,
   "metadata": {
    "collapsed": true
   },
   "outputs": [],
   "source": [
    "datapoints_inside_public_lb.to_csv('../../data/actual_res.csv', index=False)"
   ]
  },
  {
   "cell_type": "code",
   "execution_count": 11,
   "metadata": {},
   "outputs": [
    {
     "data": {
      "text/plain": [
       "(32, 4)"
      ]
     },
     "execution_count": 11,
     "metadata": {},
     "output_type": "execute_result"
    }
   ],
   "source": [
    "datapoints_inside_public_lb.shape"
   ]
  },
  {
   "cell_type": "code",
   "execution_count": 1,
   "metadata": {
    "collapsed": true
   },
   "outputs": [],
   "source": [
    "import pandas as pd"
   ]
  },
  {
   "cell_type": "code",
   "execution_count": 2,
   "metadata": {
    "collapsed": true
   },
   "outputs": [],
   "source": [
    "test = pd.read_csv(\"../../data/test.csv\")\n",
    "train = pd.read_csv(\"../../data/train.csv\")"
   ]
  },
  {
   "cell_type": "code",
   "execution_count": 3,
   "metadata": {
    "collapsed": true
   },
   "outputs": [],
   "source": [
    "public = pd.read_csv(\"../../data/public_lb.csv\")\n",
    "public['y'] = public.yValue"
   ]
  },
  {
   "cell_type": "code",
   "execution_count": 4,
   "metadata": {},
   "outputs": [
    {
     "name": "stdout",
     "output_type": "stream",
     "text": [
      "(43, 377)\n",
      "(43, 5)\n"
     ]
    }
   ],
   "source": [
    "not_entered_test = test[test.ID.isin(public.id)]\n",
    "not_entered_public = public[public.id.isin(test.ID)]\n",
    "print(not_entered_test.shape)\n",
    "print(not_entered_public.shape)\n"
   ]
  },
  {
   "cell_type": "code",
   "execution_count": 5,
   "metadata": {
    "collapsed": true
   },
   "outputs": [],
   "source": [
    "not_entered_test.insert(1, 'y', not_entered_public.y.as_matrix())"
   ]
  },
  {
   "cell_type": "code",
   "execution_count": 6,
   "metadata": {},
   "outputs": [
    {
     "data": {
      "text/plain": [
       "(4209, 378)"
      ]
     },
     "execution_count": 6,
     "metadata": {},
     "output_type": "execute_result"
    }
   ],
   "source": [
    "train.shape"
   ]
  },
  {
   "cell_type": "code",
   "execution_count": 7,
   "metadata": {
    "collapsed": true
   },
   "outputs": [],
   "source": [
    "merge_train= train.append(not_entered_test, ignore_index=True)"
   ]
  },
  {
   "cell_type": "code",
   "execution_count": 8,
   "metadata": {},
   "outputs": [
    {
     "name": "stdout",
     "output_type": "stream",
     "text": [
      "(4252, 378)\n"
     ]
    }
   ],
   "source": [
    "print(merge_train.shape)\n",
    "merge_train.sort_values('ID')\n",
    "merge_train.to_csv('../../data/train2.csv', index=False)"
   ]
  },
  {
   "cell_type": "code",
   "execution_count": 9,
   "metadata": {},
   "outputs": [
    {
     "data": {
      "text/plain": [
       "(4209, 377)"
      ]
     },
     "execution_count": 9,
     "metadata": {},
     "output_type": "execute_result"
    }
   ],
   "source": [
    "test.shape"
   ]
  },
  {
   "cell_type": "code",
   "execution_count": null,
   "metadata": {
    "collapsed": true
   },
   "outputs": [],
   "source": []
  }
 ],
 "metadata": {
  "kernelspec": {
   "display_name": "Python 3",
   "language": "python",
   "name": "python3"
  },
  "language_info": {
   "codemirror_mode": {
    "name": "ipython",
    "version": 3
   },
   "file_extension": ".py",
   "mimetype": "text/x-python",
   "name": "python",
   "nbconvert_exporter": "python",
   "pygments_lexer": "ipython3",
   "version": "3.5.3"
  }
 },
 "nbformat": 4,
 "nbformat_minor": 2
}
