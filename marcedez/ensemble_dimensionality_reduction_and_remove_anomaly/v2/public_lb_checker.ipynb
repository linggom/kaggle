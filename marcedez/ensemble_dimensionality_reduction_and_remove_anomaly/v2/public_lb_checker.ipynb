{
 "cells": [
  {
   "cell_type": "code",
   "execution_count": 5,
   "metadata": {},
   "outputs": [],
   "source": [
    "import urllib\n",
    "import json\n",
    "import pandas as pd\n",
    "\n",
    "def fetch_full_data():\n",
    "  all_questions=json.loads(\n",
    "    urllib.request.urlopen(\n",
    "      \"https://crowdstats.eu/api/topics/kaggle-mercedes-benz-greener-manufacturing-leaderboard-probing/questions\"\n",
    "    ).read()\n",
    "  )\n",
    "  answers = []\n",
    "  for question in all_questions:\n",
    "    for answer in question['answers']:\n",
    "      newAnswer = {\n",
    "        'id': question['id'],\n",
    "        'insidePublicLB': answer['inside_public_lb'],\n",
    "        'yValue': answer['y_value'],\n",
    "        'rho100': answer['rho_100'],\n",
    "      }\n",
    "      answers.append(newAnswer)\n",
    "  return pd.DataFrame(answers)\n",
    "\n",
    "full_data = fetch_full_data()\n",
    "datapoints_inside_public_lb = full_data[full_data['insidePublicLB']==True]"
   ]
  },
  {
   "cell_type": "code",
   "execution_count": 6,
   "metadata": {
    "collapsed": true
   },
   "outputs": [],
   "source": [
    "datapoints_inside_public_lb.to_csv('../../data/actual_res.csv', index=False)"
   ]
  },
  {
   "cell_type": "code",
   "execution_count": 7,
   "metadata": {},
   "outputs": [
    {
     "data": {
      "text/plain": [
       "(32, 4)"
      ]
     },
     "execution_count": 7,
     "metadata": {},
     "output_type": "execute_result"
    }
   ],
   "source": [
    "datapoints_inside_public_lb.shape"
   ]
  }
 ],
 "metadata": {
  "kernelspec": {
   "display_name": "Python 3",
   "language": "python",
   "name": "python3"
  },
  "language_info": {
   "codemirror_mode": {
    "name": "ipython",
    "version": 3
   },
   "file_extension": ".py",
   "mimetype": "text/x-python",
   "name": "python",
   "nbconvert_exporter": "python",
   "pygments_lexer": "ipython3",
   "version": "3.6.1"
  }
 },
 "nbformat": 4,
 "nbformat_minor": 2
}
